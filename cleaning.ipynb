{
 "cells": [
  {
   "cell_type": "code",
   "execution_count": 1,
   "id": "82ae4a7b",
   "metadata": {},
   "outputs": [
    {
     "name": "stdout",
     "output_type": "stream",
     "text": [
      "Requirement already satisfied: chardet in c:\\users\\prachi\\appdata\\local\\programs\\python\\python313\\lib\\site-packages (5.2.0)\n"
     ]
    },
    {
     "name": "stderr",
     "output_type": "stream",
     "text": [
      "\n",
      "[notice] A new release of pip is available: 24.3.1 -> 25.0.1\n",
      "[notice] To update, run: python.exe -m pip install --upgrade pip\n"
     ]
    }
   ],
   "source": [
    "! pip install chardet "
   ]
  },
  {
   "cell_type": "code",
   "execution_count": 4,
   "id": "f359ac0c",
   "metadata": {},
   "outputs": [
    {
     "name": "stdout",
     "output_type": "stream",
     "text": [
      "\n",
      " Total files processed: 126 files saved to clean folder\n",
      " Total files skipped: 0\n"
     ]
    }
   ],
   "source": [
    "import os\n",
    "import pandas as pd\n",
    "import re\n",
    "import chardet\n",
    "from pathlib import Path\n",
    "\n",
    "# Define input and output directories\n",
    "input_folder = Path(\"linked_data\")\n",
    "output_folder = Path(\"clean\")\n",
    "output_folder.mkdir(exist_ok=True)\n",
    "\n",
    "# Allow only alphabets and whitespace characters\n",
    "allowed_characters = re.compile(r\"[^a-zA-Z\\s]\")\n",
    "\n",
    "processed = 0\n",
    "skipped = []\n",
    "\n",
    "#  Function to clean and capitalize each word\n",
    "def clean_and_format_name(name):\n",
    "    name = allowed_characters.sub(\"\", name)  # Remove unwanted characters\n",
    "    name = name.strip()\n",
    "    return name.title() if name else \"\"  # Capitalize every word\n",
    "\n",
    "# Function to detect encoding of file\n",
    "def detect_encoding(file_path):\n",
    "    with open(file_path, 'rb') as f:\n",
    "        result = chardet.detect(f.read(10000))\n",
    "    return result['encoding']\n",
    "\n",
    "# Loop through all CSV files in input_folder\n",
    "for i, file in enumerate(input_folder.glob(\"*.csv\"), 1):\n",
    "    try:\n",
    "        # Try reading using UTF-8\n",
    "        try:\n",
    "            df = pd.read_csv(file)\n",
    "        except UnicodeDecodeError:\n",
    "            # Fallback: detect encoding if UTF-8 fails\n",
    "            encoding = detect_encoding(file)\n",
    "            try:\n",
    "                df = pd.read_csv(file, encoding=encoding)\n",
    "            except Exception as e:\n",
    "                skipped.append((i, file.name, f\"Fallback read failed with encoding '{encoding}': {e}\"))\n",
    "                continue\n",
    "\n",
    "        # Check necessary columns\n",
    "        if \"First Name\" not in df.columns or \"Last Name\" not in df.columns:\n",
    "            skipped.append((i, file.name, \"Missing 'First Name' or 'Last Name' columns\"))\n",
    "            continue\n",
    "\n",
    "        # Drop rows with missing names\n",
    "        df = df.dropna(subset=[\"First Name\", \"Last Name\"])\n",
    "\n",
    "        #  Apply cleaning function to names\n",
    "        df[\"First Name\"] = df[\"First Name\"].astype(str).str.strip().apply(clean_and_format_name)\n",
    "        df[\"Last Name\"] = df[\"Last Name\"].astype(str).str.strip().apply(clean_and_format_name)\n",
    "\n",
    "        # Combine first and last name into full name\n",
    "        df[\"Full Name\"] = (df[\"First Name\"] + \" \" + df[\"Last Name\"]).str.strip()\n",
    "\n",
    "        # Filter only alphabetic names\n",
    "        df = df[df[\"Full Name\"].apply(lambda x: bool(x) and x.replace(\" \", \"\").isalpha())]\n",
    "\n",
    "        # Prepare output DataFrame\n",
    "        output_df = pd.DataFrame()\n",
    "        output_df[\"Full Name\"] = df[\"Full Name\"]\n",
    "        output_df[\"Company\"] = df[\"Company\"] if \"Company\" in df.columns else \"\"\n",
    "\n",
    "        # Save cleaned file\n",
    "        output_df.to_csv(output_folder / file.name, index=False)\n",
    "        processed += 1\n",
    "\n",
    "    except Exception as e:\n",
    "        skipped.append((i, file.name, f\"Error processing file: {e}\"))\n",
    "\n",
    "# Summary log\n",
    "print(f\"\\n Total files processed: {processed}\",'files saved to clean folder')\n",
    "print(f\" Total files skipped: {len(skipped)}\")\n",
    "if skipped:\n",
    "    print(\"\\nSkipped Files:\")\n",
    "    for idx, name, reason in skipped:\n",
    "        print(f\"{idx}. {name} - {reason}\")\n"
   ]
  },
  {
   "cell_type": "code",
   "execution_count": null,
   "id": "2cf4da1c",
   "metadata": {},
   "outputs": [],
   "source": []
  }
 ],
 "metadata": {
  "kernelspec": {
   "display_name": "Python 3",
   "language": "python",
   "name": "python3"
  },
  "language_info": {
   "codemirror_mode": {
    "name": "ipython",
    "version": 3
   },
   "file_extension": ".py",
   "mimetype": "text/x-python",
   "name": "python",
   "nbconvert_exporter": "python",
   "pygments_lexer": "ipython3",
   "version": "3.13.0"
  }
 },
 "nbformat": 4,
 "nbformat_minor": 5
}
